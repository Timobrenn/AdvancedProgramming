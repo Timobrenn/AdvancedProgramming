{
 "cells": [
  {
   "cell_type": "code",
   "execution_count": 1,
   "id": "dacaeb30-363f-4cb0-b171-8b5d70e16c88",
   "metadata": {},
   "outputs": [
    {
     "name": "stdout",
     "output_type": "stream",
     "text": [
      "loading Zacharie\n"
     ]
    }
   ],
   "source": [
    "print(\"loading Zacharie\")"
   ]
  },
  {
   "cell_type": "code",
   "execution_count": null,
   "id": "f9fae070-b31c-4d33-8ecc-e8d37be9f664",
   "metadata": {},
   "outputs": [],
   "source": []
  }
 ],
 "metadata": {
  "kernelspec": {
   "display_name": "Python [conda env:base]",
   "language": "python",
   "name": "conda-base-py"
  },
  "language_info": {
   "codemirror_mode": {
    "name": "ipython",
    "version": 3
   },
   "file_extension": ".py",
   "mimetype": "text/x-python",
   "name": "python",
   "nbconvert_exporter": "python",
   "pygments_lexer": "ipython3",
   "version": "3.12.7"
  }
 },
 "nbformat": 4,
 "nbformat_minor": 5
}
