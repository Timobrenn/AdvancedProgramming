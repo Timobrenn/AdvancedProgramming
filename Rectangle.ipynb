{
 "cells": [
  {
   "cell_type": "markdown",
   "id": "26e46252",
   "metadata": {},
   "source": [
    "# UCG2SC12, September 2025\n",
    "## Homework Assignment 3: Classes and objects, inheritance, interfaces, and abstract methods\n",
    "\n",
    "Classes define objects with common data (attributes) and functionality (methods). \n",
    "\n",
    "The accompanying file ```vector.ipynb``` gives an example of a class Vector with attribute ```_array```, derived classes ```Matrix``` and ```Velocity```, and the interface ```Visual``` with abstract method ```visualize```.\n",
    "\n",
    "For homework, implement something similar for\n",
    "- Define a **base class ```Rectancle```** with attributes ```_side_a``` and ```_side_b``` and property ```area``` (i.e., use the ```@property``` descriptor)\n",
    "- Implement the operator == (comparing sides).\n",
    "- Implement the operator > (comparing area) so that rectangles can be sorted.\n",
    "- Implement __str__ and __repr__\n",
    "- Rectangles can be added if ```_side_a``` is equal or—--if ```side_a``` is not equal---they can still be added if ```side_b``` is equal.\n",
    "- Rectangles can be subtracted if ```_side_a``` is equal or—--if ```side_a``` is not equal---they can still be subtracted if ```side_b``` is equal. But they can only be subtracted if the result is positive. There are no negative rectangles.\n",
    "- If addition or subtraction are called when this is not possible, raise an Exception.\n",
    "<br><br>\n",
    "- Define a **derived class ```Square```**. Initializing a square should raise an error if two arguments are given and the sides are not equal. \n",
    "- Show that most of the functionality of Rectangle still works, in particular area and _str__.\n",
    "- Adding squares must be possible. The result should have the type ```Rectangle```, not ```Square```. \n",
    "- While it doesn't make sense to modify a rectangle by setting the property ```area``` to a new value, it makes a lot of sense for a square, since by defining the area, the length of the sides is uniquely defined. Please implement ```@area.setter``` such that when the area of a square is set, like ```my_square.area = 25```, what is actually modified is the length of the two sides.\n",
    "<br><br>\n",
    "- Create an **Interface ```Visual```** with an abstract method visualize.\n",
    "- ```Square``` should implement ```Visual```. Calling ```visualize``` should plot a square of correct size. Ask generative AI how to plot a square of size n*n on graphing paper.\n",
    "\n",
    "\n",
    "\n"
   ]
  },
  {
   "cell_type": "code",
   "execution_count": null,
   "id": "7736e292",
   "metadata": {},
   "outputs": [],
   "source": [
    "# your code"
   ]
  },
  {
   "cell_type": "code",
   "execution_count": 19,
   "outputs": [],
   "source": [
    "from math import sqrt\n",
    "import matplotlib.pyplot as plt\n",
    "from abc import ABCMeta, abstractmethod"
   ],
   "metadata": {
    "collapsed": false,
    "ExecuteTime": {
     "end_time": "2025-09-21T15:30:19.953886600Z",
     "start_time": "2025-09-21T15:30:19.427788600Z"
    }
   },
   "id": "dca22585d87bfe1a"
  },
  {
   "cell_type": "code",
   "execution_count": 47,
   "outputs": [],
   "source": [
    "class Visual(metaclass=ABCMeta):\n",
    "    \"\"\"Abstract base class for visualizable objects.\"\"\"\n",
    "    @classmethod\n",
    "    def __subclasshook__(cls, subclass):\n",
    "        \"\"\"Check if a subclass implements the `visualize` method.\"\"\"\n",
    "        return hasattr(subclass, 'visualize') and callable(subclass.visualize)\n",
    "\n",
    "    @abstractmethod\n",
    "    def visualize(self):\n",
    "        \"\"\"\n",
    "        Render a visual representation of the object.\n",
    "        Must be implemented by subclasses.\n",
    "        \"\"\"\n",
    "        raise NotImplementedError"
   ],
   "metadata": {
    "collapsed": false,
    "ExecuteTime": {
     "end_time": "2025-09-21T15:44:31.451426700Z",
     "start_time": "2025-09-21T15:44:31.448911900Z"
    }
   },
   "id": "c461c0d64394a21d"
  },
  {
   "cell_type": "code",
   "execution_count": 42,
   "id": "16828430",
   "metadata": {
    "ExecuteTime": {
     "end_time": "2025-09-21T15:40:52.123691300Z",
     "start_time": "2025-09-21T15:40:52.105382200Z"
    }
   },
   "outputs": [],
   "source": [
    "class Rectangle(Visual):\n",
    "    \"\"\"A rectangle defined by two side lengths.\"\"\"\n",
    "    def __init__(self, side_a, side_b):\n",
    "        \"\"\"\n",
    "        Initialize a rectangle.\n",
    "        :param side_a: Length of horizontal side.\n",
    "        :param side_b: Length of vertical side.\n",
    "        \"\"\"\n",
    "        self._side_a = side_a\n",
    "        self._side_b = side_b\n",
    "\n",
    "    @property\n",
    "    def area(self):\n",
    "        \"\"\"Return the area of the rectangle\"\"\"\n",
    "        return self._side_a * self._side_b\n",
    "\n",
    "    def visualize(self, color='red', **kwargs):\n",
    "        \"\"\"\n",
    "        Plots the rectangle on an equal aspect matplotlib figure\n",
    "        :param color: Color of the plotted lines \n",
    "        :param kwargs: kwargs for the ax.plot() function\n",
    "        :return: None\n",
    "        \"\"\"\n",
    "        fig, ax = plt.subplots()\n",
    "        # Floor\n",
    "        ax.plot([0, self._side_a], [0, 0], c=color, **kwargs)\n",
    "        # Left wall\n",
    "        ax.plot([0, 0], [0, self._side_b], c=color, **kwargs)\n",
    "        # Right wall\n",
    "        ax.plot([self._side_a, self._side_a], [0, self._side_b], \n",
    "                 c=color, **kwargs)\n",
    "        # Ceiling\n",
    "        ax.plot([0, self._side_a], [self._side_b, self._side_b], \n",
    "                 c=color, **kwargs)\n",
    "        ax.set_aspect('equal')\n",
    "        ax.set_xlim([-1, self._side_a+1])\n",
    "        ax.set_ylim([-1, self._side_b+1])\n",
    "        ax.grid(alpha=0.7)\n",
    "        \n",
    "        plt.show()\n",
    "\n",
    "    def __eq__(self, other):\n",
    "        \"\"\"Check if two rectangles are equal (sides may be swapped).\"\"\"\n",
    "        if (self._side_a == other._side_a\n",
    "                and\n",
    "                self._side_b == other._side_b):\n",
    "            return True\n",
    "        if (self._side_a == other._side_b\n",
    "                and\n",
    "                self._side_b == other._side_a):\n",
    "            return True\n",
    "        return False\n",
    "\n",
    "    def __ne__(self, other):\n",
    "        return not self.__eq__(other)\n",
    "\n",
    "    def __gt__(self, other):\n",
    "        \"\"\"Check if this rectangle's area is less than another's.\"\"\"\n",
    "        if self.area > other.area:\n",
    "            return True\n",
    "        return False\n",
    "\n",
    "    def __lt__(self, other):\n",
    "        if self.area < other.area:\n",
    "            return True\n",
    "        return False\n",
    "\n",
    "    def __str__(self):\n",
    "        return f\"Rectangle(side_a={self._side_a}, side_b={self._side_b})\"\n",
    "\n",
    "    def __repr__(self):\n",
    "        return f\"Rectangle({self._side_a}, {self._side_b})\"\n",
    "\n",
    "    def __add__(self, other):\n",
    "        \"\"\"\n",
    "        Combine two rectangles along a matching side.\n",
    "        If one dimension matches, extend the other dimension by addition.\n",
    "\n",
    "        :param other: (Rectangle) The rectangle to add. \n",
    "        \n",
    "        :return Rectangle: The combined rectangle.\n",
    "         \n",
    "        :raise ValueError: If the combined dimension is non-positive.\n",
    "        :raise NotImplementedError: If no sides match.\n",
    "        \"\"\"\n",
    "        if abs(self._side_a) == abs(other._side_a):\n",
    "            combined_length = self._side_b + other._side_b\n",
    "            if combined_length <= 0:\n",
    "                raise ValueError(\"Rectangle cannot have negative or zero values\")\n",
    "            return Rectangle(self._side_a, combined_length)\n",
    "\n",
    "        if abs(self._side_b) == abs(other._side_b):\n",
    "            combined_length = self._side_a + other._side_a\n",
    "            if combined_length <= 0:\n",
    "                raise ValueError(\"Rectangle cannot have negative or zero values\")\n",
    "            return Rectangle(self._side_b, combined_length)\n",
    "\n",
    "        raise NotImplementedError(\n",
    "            \"Adding/Subtracting rectangles with no shared side lengths not implemented\"\n",
    "        )\n",
    "\n",
    "    def __sub__(self, other):\n",
    "        \"\"\"\n",
    "        Subtract another rectangle by inverting its side lengths and adding.\n",
    "        :param other: (Rectangle) The rectangle to subtract\n",
    "        :return: The resulting rectangle\n",
    "        \"\"\"\n",
    "        other = Rectangle(-other._side_a, -other._side_b)\n",
    "        return self.__add__(other)"
   ]
  },
  {
   "cell_type": "code",
   "execution_count": 43,
   "outputs": [],
   "source": [
    "class Square(Rectangle):\n",
    "    \"\"\"A special case of a rectangle with equal side lengths.\"\"\"\n",
    "    def __init__(self, side_length):\n",
    "        super().__init__(side_length, side_length)\n",
    "\n",
    "    def __str__(self):\n",
    "        return f\"Square(side_lengths={self._side_a}, area={self.area})\"\n",
    "\n",
    "    def __repr__(self):\n",
    "        return f\"Square({self._side_a})\"\n",
    "\n",
    "    def __sub__(self, other):\n",
    "        raise NotImplementedError(\"Cannot subtract squares\")\n",
    "\n",
    "    @property\n",
    "    def area(self):\n",
    "        return self._side_a ** 2\n",
    "\n",
    "    @area.setter\n",
    "    def area(self, _area):\n",
    "        \"\"\"\n",
    "        Set the area of the square by adjusting side lengths.\n",
    "        :param _area: Desired area of the square\n",
    "        :return: same Square object (self) with new side lengths\n",
    "        \"\"\"\n",
    "        self._side_a = sqrt(_area)\n",
    "        self._side_b = sqrt(_area)"
   ],
   "metadata": {
    "collapsed": false,
    "ExecuteTime": {
     "end_time": "2025-09-21T15:40:52.213606500Z",
     "start_time": "2025-09-21T15:40:52.205444Z"
    }
   },
   "id": "fdf1111779993385"
  },
  {
   "cell_type": "code",
   "execution_count": 46,
   "outputs": [
    {
     "data": {
      "text/plain": "<Figure size 640x480 with 1 Axes>",
      "image/png": "[encoded data removed]"
     },
     "metadata": {},
     "output_type": "display_data"
    },
    {
     "data": {
      "text/plain": "<Figure size 640x480 with 1 Axes>",
      "image/png": "[encoded data removed]"
     },
     "metadata": {},
     "output_type": "display_data"
    }
   ],
   "source": [
    "r1 = Square(4)\n",
    "r1.visualize()\n",
    "r1.area = 25\n",
    "r1.visualize()"
   ],
   "metadata": {
    "collapsed": false,
    "ExecuteTime": {
     "end_time": "2025-09-21T15:41:33.212855400Z",
     "start_time": "2025-09-21T15:41:33.068118100Z"
    }
   },
   "id": "38ae052f20bbd3df"
  }
 ],
 "metadata": {
  "kernelspec": {
   "display_name": "GIS",
   "language": "python",
   "name": "python3"
  },
  "language_info": {
   "codemirror_mode": {
    "name": "ipython",
    "version": 3
   },
   "file_extension": ".py",
   "mimetype": "text/x-python",
   "name": "python",
   "nbconvert_exporter": "python",
   "pygments_lexer": "ipython3",
   "version": "3.13.5"
  }
 },
 "nbformat": 4,
 "nbformat_minor": 5
}
